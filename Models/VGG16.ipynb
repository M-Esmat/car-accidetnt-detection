{
 "cells": [
  {
   "cell_type": "code",
   "execution_count": 1,
   "metadata": {
    "_cell_guid": "b1076dfc-b9ad-4769-8c92-a6c4dae69d19",
    "_uuid": "8f2839f25d086af736a60e9eeb907d3b93b6e0e5",
    "execution": {
     "iopub.execute_input": "2023-11-05T11:49:05.488899Z",
     "iopub.status.busy": "2023-11-05T11:49:05.488465Z",
     "iopub.status.idle": "2023-11-05T11:49:05.520535Z",
     "shell.execute_reply": "2023-11-05T11:49:05.519255Z",
     "shell.execute_reply.started": "2023-11-05T11:49:05.488867Z"
    }
   },
   "outputs": [],
   "source": [
    "# # This Python 3 environment comes with many helpful analytics libraries installed\n",
    "# # It is defined by the kaggle/python Docker image: https://github.com/kaggle/docker-python\n",
    "# # For example, here's several helpful packages to load\n",
    "\n",
    "# import numpy as np # linear algebra\n",
    "# import pandas as pd # data processing, CSV file I/O (e.g. pd.read_csv)\n",
    "\n",
    "# # Input data files are available in the read-only \"../input/\" directory\n",
    "# # For example, running this (by clicking run or pressing Shift+Enter) will list all files under the input directory\n",
    "\n",
    "# import os\n",
    "# for dirname, _, filenames in os.walk('/kaggle/input'):\n",
    "#     for filename in filenames:\n",
    "#         print(os.path.join(dirname, filename))\n",
    "\n",
    "# # You can write up to 20GB to the current directory (/kaggle/working/) that gets preserved as output when you create a version using \"Save & Run All\" \n",
    "# # You can also write temporary files to /kaggle/temp/, but they won't be saved outside of the current session"
   ]
  },
  {
   "cell_type": "code",
   "execution_count": 1,
   "metadata": {
    "execution": {
     "iopub.execute_input": "2023-11-05T11:49:07.900649Z",
     "iopub.status.busy": "2023-11-05T11:49:07.900136Z",
     "iopub.status.idle": "2023-11-05T11:49:18.450896Z",
     "shell.execute_reply": "2023-11-05T11:49:18.449590Z",
     "shell.execute_reply.started": "2023-11-05T11:49:07.900604Z"
    }
   },
   "outputs": [],
   "source": [
    "import cv2\n",
    "import numpy as np # linear algebra\n",
    "import pandas as pd # data processing, CSV file I/O (e.g. pd.read_csv)\n",
    "import matplotlib.pyplot as plt\n",
    "import tensorflow as tf\n",
    "from tensorflow.keras import layers"
   ]
  },
  {
   "cell_type": "code",
   "execution_count": 4,
   "metadata": {
    "execution": {
     "iopub.execute_input": "2023-11-05T11:49:20.224094Z",
     "iopub.status.busy": "2023-11-05T11:49:20.223079Z",
     "iopub.status.idle": "2023-11-05T11:49:20.230760Z",
     "shell.execute_reply": "2023-11-05T11:49:20.229235Z",
     "shell.execute_reply.started": "2023-11-05T11:49:20.224049Z"
    }
   },
   "outputs": [],
   "source": [
    "batch_size = 100\n",
    "img_height = 250\n",
    "img_width = 250"
   ]
  },
  {
   "cell_type": "code",
   "execution_count": 5,
   "metadata": {
    "execution": {
     "iopub.execute_input": "2023-11-05T11:49:23.011080Z",
     "iopub.status.busy": "2023-11-05T11:49:23.009960Z",
     "iopub.status.idle": "2023-11-05T11:49:23.495221Z",
     "shell.execute_reply": "2023-11-05T11:49:23.494214Z",
     "shell.execute_reply.started": "2023-11-05T11:49:23.011033Z"
    }
   },
   "outputs": [
    {
     "name": "stdout",
     "output_type": "stream",
     "text": [
      "Found 791 files belonging to 2 classes.\n",
      "Found 100 files belonging to 2 classes.\n",
      "Found 98 files belonging to 2 classes.\n"
     ]
    }
   ],
   "source": [
    "training_ds = tf.keras.preprocessing.image_dataset_from_directory(\n",
    "    r'D:\\projects\\z datasets\\Accident Detection From CCTV Footage\\data\\train',\n",
    "    seed=101,\n",
    "    image_size= (img_height, img_width),\n",
    "    batch_size=batch_size\n",
    "\n",
    ")\n",
    "\n",
    "testing_ds = tf.keras.preprocessing.image_dataset_from_directory(\n",
    "    r'D:\\projects\\z datasets\\Accident Detection From CCTV Footage\\data\\test',\n",
    "    seed=101,\n",
    "    image_size= (img_height, img_width),\n",
    "    batch_size=batch_size)\n",
    "\n",
    "validation_ds =  tf.keras.preprocessing.image_dataset_from_directory(\n",
    "    r'D:\\projects\\z datasets\\Accident Detection From CCTV Footage\\data\\val',\n",
    "    seed=101,\n",
    "    image_size= (img_height, img_width),\n",
    "    batch_size=batch_size)"
   ]
  },
  {
   "cell_type": "code",
   "execution_count": 6,
   "metadata": {
    "execution": {
     "iopub.execute_input": "2023-11-05T11:49:26.069574Z",
     "iopub.status.busy": "2023-11-05T11:49:26.069056Z",
     "iopub.status.idle": "2023-11-05T11:49:26.088885Z",
     "shell.execute_reply": "2023-11-05T11:49:26.087478Z",
     "shell.execute_reply.started": "2023-11-05T11:49:26.069537Z"
    }
   },
   "outputs": [],
   "source": [
    "class_names = training_ds.class_names\n",
    "\n",
    "## Configuring dataset for performance\n",
    "AUTOTUNE = tf.data.experimental.AUTOTUNE\n",
    "training_ds = training_ds.cache().prefetch(buffer_size=AUTOTUNE)\n",
    "testing_ds = testing_ds.cache().prefetch(buffer_size=AUTOTUNE)"
   ]
  },
  {
   "cell_type": "code",
   "execution_count": 7,
   "metadata": {
    "execution": {
     "iopub.execute_input": "2023-11-05T11:49:28.629074Z",
     "iopub.status.busy": "2023-11-05T11:49:28.628040Z",
     "iopub.status.idle": "2023-11-05T11:49:28.634844Z",
     "shell.execute_reply": "2023-11-05T11:49:28.633497Z",
     "shell.execute_reply.started": "2023-11-05T11:49:28.629030Z"
    }
   },
   "outputs": [],
   "source": [
    "from keras.applications.vgg16 import VGG16"
   ]
  },
  {
   "cell_type": "code",
   "execution_count": 8,
   "metadata": {
    "execution": {
     "iopub.execute_input": "2023-11-05T11:49:30.906639Z",
     "iopub.status.busy": "2023-11-05T11:49:30.906083Z",
     "iopub.status.idle": "2023-11-05T11:49:32.062041Z",
     "shell.execute_reply": "2023-11-05T11:49:32.060222Z",
     "shell.execute_reply.started": "2023-11-05T11:49:30.906601Z"
    }
   },
   "outputs": [],
   "source": [
    "img_shape = (img_height, img_width, 3)\n",
    "\n",
    "base_model = tf.keras.applications.VGG16(input_shape=img_shape,\n",
    "                                               include_top=False,\n",
    "                                               weights='imagenet')\n",
    "\n",
    "base_model.trainable = False"
   ]
  },
  {
   "cell_type": "code",
   "execution_count": 9,
   "metadata": {
    "execution": {
     "iopub.execute_input": "2023-11-05T11:49:37.795228Z",
     "iopub.status.busy": "2023-11-05T11:49:37.794797Z",
     "iopub.status.idle": "2023-11-05T11:49:38.353034Z",
     "shell.execute_reply": "2023-11-05T11:49:38.351513Z",
     "shell.execute_reply.started": "2023-11-05T11:49:37.795177Z"
    }
   },
   "outputs": [],
   "source": [
    "model = tf.keras.Sequential([\n",
    "    base_model,\n",
    "    layers.Conv2D(32, 3, activation='relu'),\n",
    "    layers.Conv2D(64, 3, activation='relu'),\n",
    "    layers.Conv2D(128, 3, activation='relu'),\n",
    "    layers.Flatten(),\n",
    "    layers.Dense(len(class_names), activation= 'softmax')\n",
    "])"
   ]
  },
  {
   "cell_type": "code",
   "execution_count": 10,
   "metadata": {
    "execution": {
     "iopub.execute_input": "2023-11-05T11:49:41.041374Z",
     "iopub.status.busy": "2023-11-05T11:49:41.040836Z",
     "iopub.status.idle": "2023-11-05T11:49:41.070945Z",
     "shell.execute_reply": "2023-11-05T11:49:41.069548Z",
     "shell.execute_reply.started": "2023-11-05T11:49:41.041330Z"
    }
   },
   "outputs": [],
   "source": [
    "model.compile(optimizer='adam',loss='sparse_categorical_crossentropy', metrics=['accuracy'])"
   ]
  },
  {
   "cell_type": "code",
   "execution_count": null,
   "metadata": {},
   "outputs": [],
   "source": []
  },
  {
   "cell_type": "code",
   "execution_count": 11,
   "metadata": {
    "execution": {
     "iopub.execute_input": "2023-11-05T11:49:50.481293Z",
     "iopub.status.busy": "2023-11-05T11:49:50.480772Z",
     "iopub.status.idle": "2023-11-05T16:16:48.316640Z",
     "shell.execute_reply": "2023-11-05T16:16:48.315232Z",
     "shell.execute_reply.started": "2023-11-05T11:49:50.481212Z"
    },
    "scrolled": false
   },
   "outputs": [
    {
     "name": "stdout",
     "output_type": "stream",
     "text": [
      "Epoch 1/50\n",
      "8/8 [==============================] - 23s 2s/step - loss: 2.9851 - accuracy: 0.5917 - val_loss: 0.6723 - val_accuracy: 0.6122\n",
      "Epoch 2/50\n",
      "8/8 [==============================] - 3s 342ms/step - loss: 0.4659 - accuracy: 0.7800 - val_loss: 0.3470 - val_accuracy: 0.8265\n",
      "Epoch 3/50\n",
      "8/8 [==============================] - 3s 338ms/step - loss: 0.2982 - accuracy: 0.8824 - val_loss: 0.2542 - val_accuracy: 0.8776\n",
      "Epoch 4/50\n",
      "8/8 [==============================] - 3s 342ms/step - loss: 0.1702 - accuracy: 0.9418 - val_loss: 0.1808 - val_accuracy: 0.9286\n",
      "Epoch 5/50\n",
      "8/8 [==============================] - 3s 338ms/step - loss: 0.1054 - accuracy: 0.9684 - val_loss: 0.1745 - val_accuracy: 0.9388\n",
      "Epoch 6/50\n",
      "8/8 [==============================] - 3s 339ms/step - loss: 0.0657 - accuracy: 0.9810 - val_loss: 0.1580 - val_accuracy: 0.9184\n",
      "Epoch 7/50\n",
      "8/8 [==============================] - 3s 338ms/step - loss: 0.0492 - accuracy: 0.9836 - val_loss: 0.1570 - val_accuracy: 0.9184\n",
      "Epoch 8/50\n",
      "8/8 [==============================] - 3s 339ms/step - loss: 0.0362 - accuracy: 0.9924 - val_loss: 0.1497 - val_accuracy: 0.9184\n",
      "Epoch 9/50\n",
      "8/8 [==============================] - 3s 338ms/step - loss: 0.0297 - accuracy: 0.9886 - val_loss: 0.1610 - val_accuracy: 0.9184\n",
      "Epoch 10/50\n",
      "8/8 [==============================] - 3s 338ms/step - loss: 0.0248 - accuracy: 0.9899 - val_loss: 0.1699 - val_accuracy: 0.9184\n",
      "Epoch 11/50\n",
      "8/8 [==============================] - 3s 342ms/step - loss: 0.0212 - accuracy: 0.9899 - val_loss: 0.1697 - val_accuracy: 0.9184\n",
      "Epoch 12/50\n",
      "8/8 [==============================] - 3s 344ms/step - loss: 0.0184 - accuracy: 0.9912 - val_loss: 0.1828 - val_accuracy: 0.9184\n",
      "Epoch 13/50\n",
      "8/8 [==============================] - 3s 338ms/step - loss: 0.0182 - accuracy: 0.9924 - val_loss: 0.1792 - val_accuracy: 0.9184\n",
      "Epoch 14/50\n",
      "8/8 [==============================] - 3s 339ms/step - loss: 0.0156 - accuracy: 0.9912 - val_loss: 0.1926 - val_accuracy: 0.9184\n",
      "Epoch 15/50\n",
      "8/8 [==============================] - 3s 345ms/step - loss: 0.0150 - accuracy: 0.9912 - val_loss: 0.1961 - val_accuracy: 0.9184\n",
      "Epoch 16/50\n",
      "8/8 [==============================] - 3s 347ms/step - loss: 0.0144 - accuracy: 0.9912 - val_loss: 0.1934 - val_accuracy: 0.9184\n",
      "Epoch 17/50\n",
      "8/8 [==============================] - 3s 339ms/step - loss: 0.0142 - accuracy: 0.9912 - val_loss: 0.1968 - val_accuracy: 0.9184\n",
      "Epoch 18/50\n",
      "8/8 [==============================] - 3s 348ms/step - loss: 0.0136 - accuracy: 0.9912 - val_loss: 0.1914 - val_accuracy: 0.9184\n",
      "Epoch 19/50\n",
      "8/8 [==============================] - 3s 340ms/step - loss: 0.0135 - accuracy: 0.9912 - val_loss: 0.1989 - val_accuracy: 0.9286\n",
      "Epoch 20/50\n",
      "8/8 [==============================] - 3s 340ms/step - loss: 0.0128 - accuracy: 0.9912 - val_loss: 0.1936 - val_accuracy: 0.9184\n",
      "Epoch 21/50\n",
      "8/8 [==============================] - 3s 340ms/step - loss: 0.0130 - accuracy: 0.9912 - val_loss: 0.2004 - val_accuracy: 0.9286\n",
      "Epoch 22/50\n",
      "8/8 [==============================] - 3s 340ms/step - loss: 0.0121 - accuracy: 0.9912 - val_loss: 0.1971 - val_accuracy: 0.9286\n",
      "Epoch 23/50\n",
      "8/8 [==============================] - 3s 342ms/step - loss: 0.0119 - accuracy: 0.9912 - val_loss: 0.2025 - val_accuracy: 0.9286\n",
      "Epoch 24/50\n",
      "8/8 [==============================] - 3s 342ms/step - loss: 0.0116 - accuracy: 0.9912 - val_loss: 0.2026 - val_accuracy: 0.9286\n",
      "Epoch 25/50\n",
      "8/8 [==============================] - 3s 342ms/step - loss: 0.0119 - accuracy: 0.9912 - val_loss: 0.2043 - val_accuracy: 0.9286\n",
      "Epoch 26/50\n",
      "8/8 [==============================] - 3s 342ms/step - loss: 0.0124 - accuracy: 0.9912 - val_loss: 0.2171 - val_accuracy: 0.9286\n",
      "Epoch 27/50\n",
      "8/8 [==============================] - 3s 342ms/step - loss: 0.0127 - accuracy: 0.9924 - val_loss: 0.2040 - val_accuracy: 0.9286\n",
      "Epoch 28/50\n",
      "8/8 [==============================] - 3s 344ms/step - loss: 0.0112 - accuracy: 0.9912 - val_loss: 0.2280 - val_accuracy: 0.9286\n",
      "Epoch 29/50\n",
      "8/8 [==============================] - 3s 345ms/step - loss: 0.0165 - accuracy: 0.9899 - val_loss: 0.2057 - val_accuracy: 0.9286\n",
      "Epoch 30/50\n",
      "8/8 [==============================] - 3s 342ms/step - loss: 0.0148 - accuracy: 0.9886 - val_loss: 0.2095 - val_accuracy: 0.9286\n",
      "Epoch 31/50\n",
      "8/8 [==============================] - 3s 342ms/step - loss: 0.0177 - accuracy: 0.9861 - val_loss: 0.1870 - val_accuracy: 0.9286\n",
      "Epoch 32/50\n",
      "8/8 [==============================] - 3s 343ms/step - loss: 0.0111 - accuracy: 0.9912 - val_loss: 0.1845 - val_accuracy: 0.9388\n",
      "Epoch 33/50\n",
      "8/8 [==============================] - 3s 345ms/step - loss: 0.0116 - accuracy: 0.9912 - val_loss: 0.1974 - val_accuracy: 0.9184\n",
      "Epoch 34/50\n",
      "8/8 [==============================] - 3s 344ms/step - loss: 0.0130 - accuracy: 0.9899 - val_loss: 0.2019 - val_accuracy: 0.9184\n",
      "Epoch 35/50\n",
      "8/8 [==============================] - 3s 341ms/step - loss: 0.0148 - accuracy: 0.9899 - val_loss: 0.2525 - val_accuracy: 0.9082\n",
      "Epoch 36/50\n",
      "8/8 [==============================] - 3s 341ms/step - loss: 0.0184 - accuracy: 0.9886 - val_loss: 0.2324 - val_accuracy: 0.9184\n",
      "Epoch 37/50\n",
      "8/8 [==============================] - 3s 342ms/step - loss: 0.0139 - accuracy: 0.9912 - val_loss: 0.2567 - val_accuracy: 0.9082\n",
      "Epoch 38/50\n",
      "8/8 [==============================] - 3s 342ms/step - loss: 0.0187 - accuracy: 0.9886 - val_loss: 0.2046 - val_accuracy: 0.9082\n",
      "Epoch 39/50\n",
      "8/8 [==============================] - 3s 344ms/step - loss: 0.0156 - accuracy: 0.9899 - val_loss: 0.2333 - val_accuracy: 0.9082\n",
      "Epoch 40/50\n",
      "8/8 [==============================] - 3s 342ms/step - loss: 0.0183 - accuracy: 0.9912 - val_loss: 0.1922 - val_accuracy: 0.9082\n",
      "Epoch 41/50\n",
      "8/8 [==============================] - 3s 342ms/step - loss: 0.0120 - accuracy: 0.9924 - val_loss: 0.2079 - val_accuracy: 0.9388\n",
      "Epoch 42/50\n",
      "8/8 [==============================] - 3s 346ms/step - loss: 0.0119 - accuracy: 0.9924 - val_loss: 0.2044 - val_accuracy: 0.9388\n",
      "Epoch 43/50\n",
      "8/8 [==============================] - 3s 342ms/step - loss: 0.0116 - accuracy: 0.9912 - val_loss: 0.1991 - val_accuracy: 0.9184\n",
      "Epoch 44/50\n",
      "8/8 [==============================] - 3s 342ms/step - loss: 0.0114 - accuracy: 0.9912 - val_loss: 0.2020 - val_accuracy: 0.9184\n",
      "Epoch 45/50\n",
      "8/8 [==============================] - 3s 345ms/step - loss: 0.0103 - accuracy: 0.9899 - val_loss: 0.2168 - val_accuracy: 0.9184\n",
      "Epoch 46/50\n",
      "8/8 [==============================] - 3s 343ms/step - loss: 0.0111 - accuracy: 0.9912 - val_loss: 0.2111 - val_accuracy: 0.9286\n",
      "Epoch 47/50\n",
      "8/8 [==============================] - 3s 343ms/step - loss: 0.0102 - accuracy: 0.9912 - val_loss: 0.2160 - val_accuracy: 0.9286\n",
      "Epoch 48/50\n",
      "8/8 [==============================] - 3s 343ms/step - loss: 0.0098 - accuracy: 0.9912 - val_loss: 0.2212 - val_accuracy: 0.9286\n",
      "Epoch 49/50\n",
      "8/8 [==============================] - 3s 343ms/step - loss: 0.0103 - accuracy: 0.9912 - val_loss: 0.2279 - val_accuracy: 0.9286\n",
      "Epoch 50/50\n",
      "8/8 [==============================] - 3s 343ms/step - loss: 0.0090 - accuracy: 0.9899 - val_loss: 0.2338 - val_accuracy: 0.9184\n"
     ]
    }
   ],
   "source": [
    "history = model.fit(training_ds, validation_data = validation_ds, epochs = 50)"
   ]
  },
  {
   "cell_type": "code",
   "execution_count": 12,
   "metadata": {
    "execution": {
     "iopub.execute_input": "2023-11-05T16:17:36.653592Z",
     "iopub.status.busy": "2023-11-05T16:17:36.653009Z",
     "iopub.status.idle": "2023-11-05T16:17:37.065310Z",
     "shell.execute_reply": "2023-11-05T16:17:37.064298Z",
     "shell.execute_reply.started": "2023-11-05T16:17:36.653547Z"
    }
   },
   "outputs": [
    {
     "data": {
      "text/plain": [
       "<matplotlib.legend.Legend at 0x200dea898b0>"
      ]
     },
     "execution_count": 12,
     "metadata": {},
     "output_type": "execute_result"
    },
    {
     "data": {
      "image/png": "[encoded data removed]",
      "text/plain": [
       "<Figure size 432x288 with 1 Axes>"
      ]
     },
     "metadata": {
      "needs_background": "light"
     },
     "output_type": "display_data"
    }
   ],
   "source": [
    "plt.plot(history.history['loss'], label = 'training loss')\n",
    "plt.plot(history.history['val_loss'], label = 'training accuracy')\n",
    "plt.grid(True)\n",
    "plt.legend()"
   ]
  },
  {
   "cell_type": "code",
   "execution_count": 13,
   "metadata": {
    "execution": {
     "iopub.execute_input": "2023-11-05T16:17:42.418645Z",
     "iopub.status.busy": "2023-11-05T16:17:42.418182Z",
     "iopub.status.idle": "2023-11-05T16:17:42.802732Z",
     "shell.execute_reply": "2023-11-05T16:17:42.801289Z",
     "shell.execute_reply.started": "2023-11-05T16:17:42.418610Z"
    }
   },
   "outputs": [
    {
     "data": {
      "text/plain": [
       "<matplotlib.legend.Legend at 0x200df03ae50>"
      ]
     },
     "execution_count": 13,
     "metadata": {},
     "output_type": "execute_result"
    },
    {
     "data": {
      "image/png": "[encoded data removed]",
      "text/plain": [
       "<Figure size 432x288 with 1 Axes>"
      ]
     },
     "metadata": {
      "needs_background": "light"
     },
     "output_type": "display_data"
    }
   ],
   "source": [
    "plt.plot(history.history['accuracy'], label = 'validation loss')\n",
    "plt.plot(history.history['val_accuracy'], label = 'validation accuracy')\n",
    "plt.grid(True)\n",
    "plt.legend()"
   ]
  }
 ],
 "metadata": {
  "kernelspec": {
   "display_name": "dkernel",
   "language": "python",
   "name": "dkernel"
  },
  "language_info": {
   "codemirror_mode": {
    "name": "ipython",
    "version": 3
   },
   "file_extension": ".py",
   "mimetype": "text/x-python",
   "name": "python",
   "nbconvert_exporter": "python",
   "pygments_lexer": "ipython3",
   "version": "3.8.8"
  }
 },
 "nbformat": 4,
 "nbformat_minor": 4
}
